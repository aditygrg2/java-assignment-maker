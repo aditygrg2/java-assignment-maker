{
 "cells": [
  {
   "cell_type": "code",
   "execution_count": 53,
   "metadata": {},
   "outputs": [
    {
     "name": "stderr",
     "output_type": "stream",
     "text": [
      "/var/folders/_n/th2x01bn4s31kzvlp8t5f0km0000gn/T/ipykernel_7476/2692810186.py:8: DeprecationWarning: executable_path has been deprecated, please pass in a Service object\n",
      "  driver = webdriver.Chrome(executable_path=\"../drivers/chromedriver\")\n"
     ]
    }
   ],
   "source": [
    "import docx2txt\n",
    "import subprocess\n",
    "from subprocess import STDOUT,PIPE\n",
    "from time import sleep\n",
    "from selenium import webdriver\n",
    "import os\n",
    "from selenium.webdriver.common.by import By\n",
    "driver = webdriver.Chrome(executable_path=\"../drivers/chromedriver\")\n",
    "import docx"
   ]
  },
  {
   "cell_type": "code",
   "execution_count": 54,
   "metadata": {},
   "outputs": [],
   "source": [
    "default = \"(base) harshitsharma@192\\n\"\n",
    "solutions = []\n",
    "\n",
    "def compile_java(java_file):\n",
    "    try:\n",
    "        subprocess.check_call(['javac', java_file])\n",
    "    except subprocess.CalledProcessError as e:\n",
    "        print(e.output)\n",
    "    \n",
    "\n",
    "def execute_java(java_file, java_class, inputi):\n",
    "    cmd = ['java', java_class]\n",
    "    proc = subprocess.run(cmd,stdout=PIPE,stderr=STDOUT, input=inputi.encode())\n",
    "    if proc.stderr is not None:\n",
    "        solutions.append(\"PLEASE NOTE THAT THIS CODE DIDNT WORKED. PLEASE CHECK THE CODE, EDIT IT MANUALLY OR TRY RUNNING THIS SCRIPT AGAIN. ERROR = \"+ proc.stderr.decode())\n",
    "    else:\n",
    "        solutions.append(proc.stdout.decode())"
   ]
  },
  {
   "cell_type": "code",
   "execution_count": 55,
   "metadata": {},
   "outputs": [
    {
     "name": "stdout",
     "output_type": "stream",
     "text": [
      "['\\nimport java.util.*;\\n\\nimport java.text.SimpleDateFormat;\\n\\nimport java.time.LocalDate;  \\n\\nimport java.time.format.DateTimeFormatter;\\n\\nimport java.time.Period;\\n\\nclass Student{\\n\\n    String name;\\n\\n    String fatherName;\\n\\n    String dob;\\n\\n    String age;\\n\\nStudent(){\\n\\n        name = \"\";\\n\\nfatherName = \"\";\\n\\n        dob = \"\";\\n\\n        age = \"\";\\n\\n    }\\n\\n    public void userInput(){\\n\\n        Scanner sc = new Scanner(System.in);\\n\\nSystem.out.println(\"Enter your name : \");\\n\\n        name = sc.nextLine();\\n\\nSystem.out.println(\"Enter your father\\'s name: \");\\n\\nfatherName = sc.nextLine();\\n\\nSystem.out.println(\"Enter your DOB in YYYY-MM-DD fashion: \");\\n\\n        dob = sc.nextLine();\\n\\n        Period period = getAge();\\n\\n        int years = Math.abs(period.getYears());\\n\\n        int months = Math.abs(period.getMonths());\\n\\n        int days = Math.abs(period.getDays());\\n\\n        age = years + \" years \"+ months + \" months \" + days + \" days \";\\n\\n    }\\n\\n    public void displayData(){\\n\\nSystem.out.println(\"Name of student is  : \"+name);\\n\\nSystem.out.println(\"Father\\'s Name is  : \"+fatherName);\\n\\nSystem.out.println(\"DOB is : \"+dob);\\n\\nSystem.out.println(\"Age : \"+age);\\n\\n    }\\n\\n    public Period getAge(){\\n\\n        Date currdate = new Date();\\n\\nSimpleDateFormat formatter = new SimpleDateFormat(\"YYYY-MM-DD\");\\n\\n        String str = formatter.format(currdate);\\n\\nLocalDate d3 = LocalDate.parse(str\\n\\n        , DateTimeFormatter.ISO_LOCAL_DATE);\\n\\nLocalDate d4 = LocalDate.parse(dob, DateTimeFormatter.ISO_LOCAL_DATE);\\n\\n        Period period = Period.between(d3, d4);\\n\\n        return period;\\n\\n    }\\n\\n}\\n\\npublic class Q1{\\n\\n    public static void main(String[] args) {\\n\\n        Student student = new Student();\\n\\nstudent.userInput();\\n\\nstudent.displayData();\\n\\n    }\\n\\n}\\n\\n\\n\\n', 'import java.io.*;\\n\\nimport java.text.SimpleDateFormat;\\n\\nimport java.time.LocalDate;  \\n\\nimport java.time.format.DateTimeFormatter;\\n\\nimport java.time.Period;\\n\\nimport java.util.Date;\\n\\nclass Student{\\n\\n    String name;\\n\\n    String fatherName;\\n\\n    String dob;\\n\\n    String age;\\n\\nStudent()\\n\\n    {\\n\\n        name = \"\";\\n\\nfatherName = \"\";\\n\\n        dob = \"\";\\n\\n        age = \"\";\\n\\n    }\\n\\n    public void userInput() throws IOException\\n\\n    {\\n\\nBufferedReader reader = new BufferedReader(new InputStreamReader(System.in));\\n\\nSystem.out.println(\"Enter your name: \");\\n\\n        name = reader.readLine();\\n\\nSystem.out.println(\"Enter your father\\'s name: \");\\n\\nfatherName = reader.readLine();\\n\\nSystem.out.println(\"Enter your DOB in YYYY-MM-DD fashion: \");\\n\\n        dob = reader.readLine();\\n\\n        Period period = getAge();\\n\\n        int years = Math.abs(period.getYears());\\n\\n        int months = Math.abs(period.getMonths());\\n\\n        int days = Math.abs(period.getDays());\\n\\n        age = years + \" years \"+ months + \" months \" + days + \" days \";\\n\\n    }\\n\\n    public void displayData()\\n\\n    {\\n\\nSystem.out.println(\"Student\\'s name is  : \"+name);\\n\\nSystem.out.println(\"Father\\'s Name is : \"+fatherName);\\n\\nSystem.out.println(\"Date of Birth is : \"+dob);\\n\\nSystem.out.println(\"Age is : \"+age);\\n\\n    }\\n\\n    public Period getAge() \\n\\n    {\\n\\n        Date currdate = new Date();\\n\\nSimpleDateFormat formatter = new SimpleDateFormat(\"YYYY-MM-DD\");\\n\\n        String str = formatter.format(currdate);\\n\\nLocalDate d3 = LocalDate.parse(str\\n\\n        , DateTimeFormatter.ISO_LOCAL_DATE);\\n\\nLocalDate d4 = LocalDate.parse(dob, DateTimeFormatter.ISO_LOCAL_DATE);\\n\\n        Period period = Period.between(d3, d4);\\n\\n        return period;\\n\\n    }\\n\\n}\\n\\npublic class Q2 \\n\\n{\\n\\n    public static void main(String[] args)throws IOException\\n\\n    {\\n\\n        Student student = new Student();\\n\\nstudent.userInput();\\n\\nstudent.displayData();\\n\\n    }\\n\\n}\\n\\n\\n\\n', '\\nimport java.util.*;\\n\\nclass Rectangle{\\n\\n    float length;\\n\\n    double breadth;\\n\\nRectangle(){\\n\\n        length = 0.0f;\\n\\n        breadth = 0.0d;\\n\\n    }\\n\\n    public void getInput(){\\n\\n        Scanner sc = new Scanner(System.in);\\n\\nSystem.out.println(\"Enter length and breadth : \");\\n\\n        length = sc.nextFloat();\\n\\n        breadth = sc.nextDouble();\\n\\n    }\\n\\n    public void getPerimeter(){\\n\\n        int len = (int)(length);\\n\\n        int brdth = (int)(breadth);\\n\\n        double perimeter = 2*(len+brdth);\\n\\nSystem.out.println(\"Perimeter of  rectangle is : \" + perimeter);\\n\\n    }\\n\\n}\\n\\npublic class Q3 {\\n\\n    public static void main(String[] args) {\\n\\n        Rectangle rectangle = new Rectangle();\\n\\nrectangle.getInput();\\n\\nrectangle.getPerimeter();\\n\\n    }\\n\\n}\\n\\n\\n\\n', 'import java.util.Scanner;\\n\\npublic class Q4\\n\\n{\\n\\n    static booleanprime(int num)\\n\\n    {\\n\\nfor(int i=2;i<=Math.sqrt(num);i++)\\n\\n        {\\n\\nif(num%i ==0)\\n\\n            {\\n\\n                return false;\\n\\n            }\\n\\n        }\\n\\n        return true;\\n\\n    }\\n\\n    public static void main(String []args)\\n\\n    {\\n\\nSystem.out.println(\"Enter five numbers\");\\n\\n        Scanner sc=new Scanner(System.in);\\n\\n        int num1=sc.nextInt();\\n\\n        int num2=sc.nextInt();\\n\\n        int num3=sc.nextInt();\\n\\n        int num4=sc.nextInt();\\n\\n        int num5=sc.nextInt();\\n\\n        if(prime(num1))\\n\\nSystem.out.println(num1+\" is prime\");\\n\\n        else\\n\\n        {\\n\\nSystem.out.println(num1+\" is not prime\");\\n\\n        }\\n\\n        if(prime(num2))\\n\\nSystem.out.println(num2+\" is prime\");\\n\\nelse{\\n\\nSystem.out.println(num2+\" is not prime\");\\n\\n        }\\n\\n        if(prime(num3))\\n\\nSystem.out.println(num3+\" is prime\");\\n\\nelse{\\n\\nSystem.out.println(num3+\" is not prime\");\\n\\n        }\\n\\n        if(prime(num4))\\n\\nSystem.out.println(num4+\" is prime\");\\n\\nelse{\\n\\nSystem.out.println(num4+\" is not prime\");\\n\\n        }\\n\\n        if(prime(num5))\\n\\nSystem.out.println(num5+\" is prime\");\\n\\nelse{\\n\\nSystem.out.println(num5+\" is not prime\");\\n\\n        }\\n\\n    }\\n\\n}\\n\\n\\n\\n', '\\nimport java.util.*;\\n\\nclass Que5 {\\n\\n    public void GCD() {\\n\\n        int a, b, c, d, e;\\n\\n        int gcd = 1;\\n\\n        Scanner sc = new Scanner(System.in);\\n\\nSystem.out.println(\"Enter five numbers: \");\\n\\n        a = sc.nextInt();\\n\\n        b = sc.nextInt();\\n\\n        c = sc.nextInt();\\n\\n        d = sc.nextInt();\\n\\n        e = sc.nextInt();\\n\\n        for (int i = 1; i<= a &&i<= b &&i<= c &&i<= d &&i<= e; i++) \\n\\n        {\\n\\n            if (a % i == 0 && b % i == 0 && c % i == 0 && d % i == 0 && e % i == 0)\\n\\n            {\\n\\n\\n\\ngcd = i;\\n\\n            }\\n\\n        }\\n\\nSystem.out.println(\"GCD is \" + gcd);\\n\\n        int lcm = (a * b * c * d * e) / gcd;\\n\\nSystem.out.println(\"LCM is \" + lcm);\\n\\n    }\\n\\n}\\n\\npublic class Q5{\\n\\n    public static void main(String[] args) \\n\\n    {\\n\\n        Que5 obj = new Que5();\\n\\nobj.GCD();\\n\\n    }\\n\\n}\\n\\n', '\\nimport java.util.Scanner;\\n\\npublic class Q6\\n\\n{\\n\\n    static void grade(int marks)\\n\\n    {\\n\\n        if(marks>=90)\\n\\nSystem.out.println(\"Grade is : S\");\\n\\n        else if(marks>=80 && marks<90)\\n\\nSystem.out.println(\"Grade is: A\");\\n\\n        else if(marks>=70 && marks<80)\\n\\nSystem.out.println(\"Grade is: B\");\\n\\n        else if(marks>=60 && marks<70)\\n\\nSystem.out.println(\"Grade is: C\");\\n\\n        else if(marks>=50 && marks<60)\\n\\nSystem.out.println(\"Grade is: D\");\\n\\n        else if(marks>=40 && marks<50)\\n\\nSystem.out.println(\"Grade is: E\");\\n\\n        else\\n\\n        {\\n\\nSystem.out.println(\"Grade: F\");\\n\\n        }\\n\\n    }\\n\\n    public static void main(String []args)\\n\\n    {\\n\\n        Scanner sc=new Scanner(System.in);\\n\\nSystem.out.println(\"Enter your marks\");\\n\\n        int marks=sc.nextInt();\\n\\n        grade(marks);\\n\\n    }\\n\\n}\\n\\n\\n\\n', '\\nimport java.util.Scanner;\\n\\npublic class Q7\\n\\n{\\n\\n    public static void main(String []args)\\n\\n    {\\n\\nSystem.out.println(\"Enter Your Marks\");\\n\\n        Scanner sc=new Scanner(System.in);\\n\\n        int marks=sc.nextInt();\\n\\n        switch(marks/10){\\n\\n            case 10:\\n\\nSystem.out.println(\"S\");\\n\\n            break;\\n\\n            case 9:\\n\\nSystem.out.println(\"S\");\\n\\n            break;\\n\\n            case 8:\\n\\nSystem.out.println(\"A\");\\n\\n            break;\\n\\n            case 7:\\n\\nSystem.out.println(\"B\");\\n\\n            break;\\n\\n            case 6:\\n\\nSystem.out.println(\"C\");\\n\\n            break;\\n\\n            case 5:\\n\\nSystem.out.println(\"D\");\\n\\n            break;\\n\\n            case 4:\\n\\nSystem.out.println(\"E\");\\n\\n            break;\\n\\n            default:\\n\\nSystem.out.println(\"F\");\\n\\n\\n\\n        }\\n\\n    }\\n\\n}\\n\\n\\n\\n', '\\nimport java.util.Scanner;\\n\\npublic class Q8\\n\\n{\\n\\n    public static void main(String []args){\\n\\n        Scanner sc=new Scanner(System.in);\\n\\nSystem.out.println(\"1: Monkey is smiling\");\\n\\nSystem.out.println(\"0: Monkey is not smiling\");\\n\\nSystem.out.println(\"Enter the state of first monkey\");\\n\\n        int state1=sc.nextInt();\\n\\nSystem.out.println(\"Enter the state of second monkey\");\\n\\n        int state2=sc.nextInt();\\n\\n        if(state1==state2)\\n\\nSystem.out.println(\"Monkeys are dangerous\");\\n\\nelse{\\n\\nSystem.out.println(\"Monkeys are not dangerous\");\\n\\n        }\\n\\n    }\\n\\n}\\n\\n', '\\nimport java.util.Scanner;\\n\\npublic class Q9{\\n\\n\\n\\n    public static void main(String []args)\\n\\n    {\\n\\n    Scanner sc=new Scanner(System.in);\\n\\nSystem.out.println(\"Enter first number\");\\n\\n    int p=sc.nextInt();\\n\\nSystem.out.println(\"Enter second number\");\\n\\n    int q=sc.nextInt();\\n\\nSystem.out.println(\"Enter third number\");\\n\\n    int r=sc.nextInt();\\n\\nAbc obj1= new Abc();\\n\\nSystem.out.println(\"For class A\");\\n\\nSystem.out.print(\"Addition: \");\\n\\nSystem.out.println(obj1.addition(p,q));\\n\\nSystem.out.print(\"Subtraction: \");\\n\\nSystem.out.println(obj1.subtraction(p,q));\\n\\nSystem.out.print(\"Multiplication: \");\\n\\nSystem.out.println(obj1.multiplication(p,q));\\n\\nSystem.out.print(\"Division: \");\\n\\nSystem.out.println(obj1.division(p,q));\\n\\n\\n\\nBcd obj2=new Bcd();\\n\\nSystem.out.println(\"For class B\");\\n\\nSystem.out.print(\"Addition: \");\\n\\nSystem.out.println(obj2.addition(p,q,r));\\n\\nSystem.out.print(\"Multiplication: \");\\n\\nSystem.out.println(obj2.multiplication(p,q,r));\\n\\n    }\\n\\n}\\n\\nclass Abc{\\n\\n    int addition(int x,int y){\\n\\n        return x+y;\\n\\n    }\\n\\n    int multiplication(int x,int y){\\n\\n        return x*y;\\n\\n    }\\n\\n    int subtraction(int x,int y){\\n\\n        return x-y;\\n\\n    }\\n\\n    int division(int x,int y){\\n\\n        return x/y;\\n\\n    }\\n\\n}\\n\\n\\n\\nclass Bcd{\\n\\n    int addition(int x,inty,int z){\\n\\n        return x+y+z;\\n\\n    }\\n\\n    int multiplication(int x,inty,int z){\\n\\n    return x*y*z;\\n\\n    }\\n\\n}\\n\\n\\n\\n']\n"
     ]
    }
   ],
   "source": [
    "doc = docx2txt.process('files/1.docx')\n",
    "ans = doc.split(\"Code\")\n",
    "ques = doc.split(\"~\")\n",
    "\n",
    "sol = []\n",
    "inputs = []\n",
    "inputs = doc.split(\"Input:\")\n",
    "inputs = inputs[1:]\n",
    "finalQues = []\n",
    "\n",
    "for i in range(0, len(inputs)):\n",
    "    inputs[i] = inputs[i].split('$')[0][1:]\n",
    "\n",
    "for i in range(0,len(ans)):\n",
    "    startIndex = ans[i].find(\"Code\")\n",
    "    endIndex = ans[i].find(\"Output\")\n",
    "    startIndex +=4\n",
    "    sol.append(ans[i][startIndex:endIndex])\n",
    "\n",
    "for i in range(0, len(ques)):\n",
    "    if(i%2!=0):\n",
    "        finalQues.append(ques[i])\n",
    "        \n",
    "\n",
    "\n",
    "# print(\"Inputs\")\n",
    "# print(inputs)\n",
    "\n",
    "# print(finalQues)\n",
    "\n",
    "sol = sol[1:]\n",
    "\n",
    "print(sol)\n",
    "        "
   ]
  },
  
     
    
   "source": [
    "# list = os.listdir('Files')\n",
    "\n",
    "# for p in range(0, len(list)):\n",
    "\n",
    "for i in range(0,len(sol)):\n",
    "    className = sol[i].split(\"{\")[0].split(\"class\")[1].replace(\" \",\"\")\n",
    "    filename = className + \".java\"\n",
    "    subprocess.check_call([\"touch\",filename])\n",
    "    subprocess.run([ 'chmod',  '+x',  filename ])\n",
    "    f = open(filename, \"w\")\n",
    "    f.write(sol[i])\n",
    "    f.close()\n",
    "    compile_java(filename)\n",
    "    execute_java(filename, className, inputs[i])\n",
    "    \n",
    "for i in range(0, len(solutions)):\n",
    "    driver.get(\"https://ray.so/#language=shell&darkMode=true&background=false&padding=16&theme=falcon&title=Terminal&code=\")\n",
    "    textbox = driver.find_element(By.CLASS_NAME, \"Editor_textarea__sAyL_\")\n",
    "    textbox.clear()\n",
    "    input_modifier = inputs[i] + '\\n' + solutions[i]\n",
    "    textbox.send_keys(default + input_modifier)\n",
    "    sleep(2)\n",
    "    checkbox = driver.find_element(By.CLASS_NAME, \"ExportButton_button__d___t\")\n",
    "    checkbox.click()\n",
    "    sleep(5)\n",
    "    \n",
    "doc = docx.Document()\n",
    "print(len(finalQues))\n",
    "\n",
    "doc.add_heading(\"Lab\" + list[i])\n",
    "\n",
    "for i in range(0, len(finalQues)):\n",
    "    doc.add_heading(\"Question \"+ str(i+1),)\n",
    "    doc.add_paragraph(finalQues[i] + '\\n')\n",
    "    doc.add_heading(\"Code \\n\")\n",
    "    doc.add_paragraph(sol[i] + '\\n')\n",
    "    doc.add_heading(\"Output \\n\")\n",
    "    doc.add_picture('../../Downloads/ray-so-export ({}).png'.format(i+1))\n",
    "    doc.save(\"Java_Assignment.docx\")\n",
    "        \n",
    "    \n",
    "\n",
    "    \n",
    "    \n",
    "\n"
   ]
  },
  {
   "cell_type": "code",
   "execution_count": null,
   "metadata": {},
   "outputs": [],
   "source": []
  },
  {
   "cell_type": "code",
   "execution_count": null,
   "metadata": {},
   "outputs": [],
   "source": []
  },
  {
   "cell_type": "code",
   "execution_count": 57,
   "metadata": {},
   "outputs": [],
   "source": [
    "# headers = {\n",
    "#   'Content-Type': 'application/json',\n",
    "#   'x-access-token': 'Fg57Wu5YzRI9T5KWDF9k3zK3XNiIEKIX8aGRmf6p73jb6FLv'\n",
    "# }\n",
    "# payload = {\n",
    "#   'code': solutions[0],\n",
    "#   'language': 'bash',\n",
    "#   'title': 'Terminal'\n",
    "# }\n",
    "# url = 'https://rayso.herokuapp.com/api'\n",
    "\n",
    "# response = requests.post(url, headers = headers, params = {}, data = json.dumps(payload))\n",
    "\n",
    "# response.raise_for_status()\n",
    "\n",
    "# print(json.dumps(response.json(), indent=2))\n",
    "\n",
    "# response\n",
    "\n",
    "# image = pyautogui.screenshot()\n",
    "# image = cv2.cvtColor(np.array(image), cv2.COLOR_RGB2BGR)"
   ]
  },
  {
   "cell_type": "code",
   "execution_count": 58,
   "metadata": {},
   "outputs": [],
   "source": [
    "# inputs\n",
    "# solutions"
   ]
  },
  {
   "cell_type": "code",
   "execution_count": null,
   "metadata": {},
   "outputs": [],
   "source": []
  },
  {
   "cell_type": "code",
   "execution_count": null,
   "metadata": {},
   "outputs": [],
   "source": []
  }
 ],
 "metadata": {
  "kernelspec": {
   "display_name": "Python 3.10.9 ('base')",
   "language": "python",
   "name": "python3"
  },
  "language_info": {
   "codemirror_mode": {
    "name": "ipython",
    "version": 3
   },
   "file_extension": ".py",
   "mimetype": "text/x-python",
   "name": "python",
   "nbconvert_exporter": "python",
   "pygments_lexer": "ipython3",
   "version": "3.10.9"
  },
  "orig_nbformat": 4,
  "vscode": {
   "interpreter": {
    "hash": "1d386f02532073431f3813f3c140324ecbcfa0ca1cf105f45c7d7e540cdb745e"
   }
  }
 },
 "nbformat": 4,
 "nbformat_minor": 2
}
