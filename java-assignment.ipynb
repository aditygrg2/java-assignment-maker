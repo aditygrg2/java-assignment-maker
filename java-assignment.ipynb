{
 "cells": [
  {
   "cell_type": "code",
   "execution_count": null,
   "metadata": {},
   "outputs": [],
   "source": [
    "import docx2txt\n",
    "import subprocess\n",
    "from subprocess import STDOUT,PIPE\n",
    "from time import sleep\n",
    "from selenium import webdriver\n",
    "import os\n",
    "from selenium.webdriver.common.by import By\n",
    "driver = webdriver.Chrome(executable_path=\"../drivers/chromedriver\")\n",
    "import docx"
   ]
  },
  {
   "cell_type": "code",
   "execution_count": null,
   "metadata": {},
   "outputs": [],
   "source": [
    "default = \"(base) harshitsharma@192\\n\"\n",
    "solutions = []\n",
    "\n",
    "def compile_java(java_file):\n",
    "    try:\n",
    "        subprocess.check_call(['javac', java_file])\n",
    "    except subprocess.CalledProcessError as e:\n",
    "        print(e.output)\n",
    "    \n",
    "\n",
    "def execute_java(java_file, java_class, inputi):\n",
    "    cmd = ['java', java_class]\n",
    "    proc = subprocess.run(cmd,stdout=PIPE,stderr=STDOUT, input=inputi.encode())\n",
    "    if proc.stderr is not None:\n",
    "        solutions.append(\"PLEASE NOTE THAT THIS CODE DIDNT WORKED. PLEASE CHECK THE CODE, EDIT IT MANUALLY OR TRY RUNNING THIS SCRIPT AGAIN. ERROR = \"+ proc.stderr.decode())\n",
    "    else:\n",
    "        solutions.append(proc.stdout.decode())"
   ]
  },
  {
   "cell_type": "code",
   "execution_count": null,
   "metadata": {},
   "outputs": [],
   "source": [
    "doc = docx2txt.process('files/1.docx')\n",
    "ans = doc.split(\"Code\")\n",
    "ques = doc.split(\"~\")\n",
    "\n",
    "sol = []\n",
    "inputs = []\n",
    "inputs = doc.split(\"Input:\")\n",
    "inputs = inputs[1:]\n",
    "finalQues = []\n",
    "\n",
    "for i in range(0, len(inputs)):\n",
    "    inputs[i] = inputs[i].split('$')[0][1:]\n",
    "\n",
    "for i in range(0,len(ans)):\n",
    "    startIndex = ans[i].find(\"Code\")\n",
    "    endIndex = ans[i].find(\"Output\")\n",
    "    startIndex +=4\n",
    "    sol.append(ans[i][startIndex:endIndex])\n",
    "\n",
    "for i in range(0, len(ques)):\n",
    "    if(i%2!=0):\n",
    "        finalQues.append(ques[i])\n",
    "        \n",
    "\n",
    "\n",
    "# print(\"Inputs\")\n",
    "# print(inputs)\n",
    "\n",
    "# print(finalQues)\n",
    "\n",
    "sol = sol[1:]\n",
    "\n",
    "print(sol)\n",
    "        "
   ]
  },
  {
   "cell_type": "code",
   "execution_count": null,
   "metadata": {},
   "outputs": [],
   "source": [
    "# list = os.listdir('Files')\n",
    "\n",
    "# for p in range(0, len(list)):\n",
    "\n",
    "for i in range(0,len(sol)):\n",
    "    className = sol[i].split(\"{\")[0].split(\"class\")[1].replace(\" \",\"\")\n",
    "    filename = className + \".java\"\n",
    "    subprocess.check_call([\"touch\",filename])\n",
    "    subprocess.run([ 'chmod',  '+x',  filename ])\n",
    "    f = open(filename, \"w\")\n",
    "    f.write(sol[i])\n",
    "    f.close()\n",
    "    compile_java(filename)\n",
    "    execute_java(filename, className, inputs[i])\n",
    "    \n",
    "for i in range(0, len(solutions)):\n",
    "    driver.get(\"https://ray.so/#language=shell&darkMode=true&background=false&padding=16&theme=falcon&title=Terminal&code=\")\n",
    "    textbox = driver.find_element(By.CLASS_NAME, \"Editor_textarea__sAyL_\")\n",
    "    textbox.clear()\n",
    "    input_modifier = inputs[i] + '\\n' + solutions[i]\n",
    "    textbox.send_keys(default + input_modifier)\n",
    "    sleep(2)\n",
    "    checkbox = driver.find_element(By.CLASS_NAME, \"ExportButton_button__d___t\")\n",
    "    checkbox.click()\n",
    "    sleep(5)\n",
    "    \n",
    "doc = docx.Document()\n",
    "print(len(finalQues))\n",
    "\n",
    "doc.add_heading(\"Lab\" + list[i])\n",
    "\n",
    "for i in range(0, len(finalQues)):\n",
    "    doc.add_heading(\"Question \"+ str(i+1),)\n",
    "    doc.add_paragraph(finalQues[i] + '\\n')\n",
    "    doc.add_heading(\"Code \\n\")\n",
    "    doc.add_paragraph(sol[i] + '\\n')\n",
    "    doc.add_heading(\"Output \\n\")\n",
    "    doc.add_picture('../../Downloads/ray-so-export ({}).png'.format(i+1))\n",
    "    doc.save(\"Java_Assignment.docx\")\n"
   ]
  }
 ],
 "metadata": {
  "kernelspec": {
   "display_name": "Python 3.10.9 ('base')",
   "language": "python",
   "name": "python3"
  },
  "language_info": {
   "codemirror_mode": {
    "name": "ipython",
    "version": 3
   },
   "file_extension": ".py",
   "mimetype": "text/x-python",
   "name": "python",
   "nbconvert_exporter": "python",
   "pygments_lexer": "ipython3",
   "version": "3.10.9"
  },
  "orig_nbformat": 4,
  "vscode": {
   "interpreter": {
    "hash": "1d386f02532073431f3813f3c140324ecbcfa0ca1cf105f45c7d7e540cdb745e"
   }
  }
 },
 "nbformat": 4,
 "nbformat_minor": 2
}
